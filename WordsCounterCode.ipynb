{
 "cells": [
  {
   "cell_type": "code",
   "execution_count": null,
   "id": "1b7c5829-57d9-4b2f-a139-94e1a55af5bc",
   "metadata": {},
   "outputs": [],
   "source": [
    "from collections import Counter\n",
    "import re\n",
    "\n",
    "# This function takes a text string and returns a dictionary containing the frequency of each word.\n",
    "def word_frequency(text):\n",
    "\n",
    "  # Lowercase the text for case-insensitive counting\n",
    "  text = text.lower()\n",
    " \n",
    "  # Remove punctuation\n",
    "  punctuations = [\".\", \",\", \";\", \":\", \"'\", '\"', \"!\", \"?\",\"[\",\"]\",\"(\",\")\",'-']\n",
    "  for punc in punctuations:\n",
    "    text = text.replace(punc, \"\")\n",
    "\n",
    "  # Split the text into words\n",
    "  words = text.split()\n",
    "  \n",
    "  # Use collections.Counter to count word frequencies\n",
    "  word_counts = Counter(words)\n",
    "  return word_counts\n",
    "\n",
    "# Usage example given a raw text: \n",
    "rawtext = \"Die rasche Entwicklung vom Agrar- zum Industriestaat vollzog sich während der Gründerzeit in der zweiten Hälfte des 19. Jahrhunderts. Nach dem Ersten Weltkrieg wurde 1918 die Monarchie abgeschafft und die demokratische Weimarer Republik konstituiert. Ab 1933 führte die nationalsozialistische Diktatur zu politischer und rassistischer Verfolgung und gipfelte in der Ermordung von sechs Millionen Juden und Angehörigen anderer Minderheiten wie Sinti und Roma. Der vom NS-Staat 1939 begonnene Zweite Weltkrieg endete 1945 mit der Niederlage der Achsenmächte. Das von den Siegermächten besetzte Land wurde 1949 geteilt, nachdem bereits 1945 seine Ostgebiete teils unter polnische, teils sowjetische Verwaltungshoheit gestellt worden waren. Der Gründung der Bundesrepublik als demokratischer westdeutscher Teilstaat mit Westbindung am 23. Mai 1949 folgte die Gründung der sozialistischen DDR am 7. Oktober 1949 als ostdeutscher Teilstaat unter sowjetischer Hegemonie. Die innerdeutsche Grenze war nach dem Berliner Mauerbau (ab 13. August 1961) abgeriegelt. Nach der friedlichen Revolution in der DDR 1989 erfolgte die Lösung der deutschen Frage durch die Wiedervereinigung beider Landesteile am 3. Oktober 1990, womit auch die Außengrenzen Deutschlands als endgültig anerkannt wurden. Durch den Beitritt der fünf ostdeutschen Länder sowie die Wiedervereinigung von Ost- und West-Berlin zur heutigen Bundeshauptstadt zählt die Bundesrepublik Deutschland seit 1990 sechzehn Bundesländer.\"\n",
    "\n",
    "# Remove numerals from the raw text\n",
    "newtext = re.sub(r'[0-9]', '', rawtext)\n",
    "# save text length\n",
    "textlength=len(newtext.split())\n",
    "print(textlength)\n",
    "word_freq = word_frequency(newtext)\n",
    "topfive = word_freq.most_common(10)\n",
    "# Print the 5 most frequent words\n",
    "print(\"\\nThese are the 10 most common words in the text that you provided: \\n\")\n",
    "for x in topfive: \n",
    "  print(\"The word '\" + str(x[0]) + \"' appears \" + str(x[1]) + \" times. Its frequency is \"+ str(round(x[1]/textlength, 2))+\"%\")\n",
    "# Let the user insert a word of interest\n",
    "while True: \n",
    "  user_word = input(\"\\nEnter a specific word to check how many times it appears in the text you provided: \").lower()\n",
    "# Access frequency of a specific word\n",
    "  if user_word in word_freq:\n",
    "    print(\"\\nThe word in which you're interested: '\" +str(user_word) + \"', apears \" + str(word_freq[user_word]) + \" times.\")\n",
    "  else:\n",
    "    print(\"\\nThe word in which you're interested: '\" + user_word + \"', doesn't apear.\")\n"
   ]
  }
 ],
 "metadata": {
  "kernelspec": {
   "display_name": "Python 3 (ipykernel)",
   "language": "python",
   "name": "python3"
  },
  "language_info": {
   "codemirror_mode": {
    "name": "ipython",
    "version": 3
   },
   "file_extension": ".py",
   "mimetype": "text/x-python",
   "name": "python",
   "nbconvert_exporter": "python",
   "pygments_lexer": "ipython3",
   "version": "3.11.7"
  }
 },
 "nbformat": 4,
 "nbformat_minor": 5
}
