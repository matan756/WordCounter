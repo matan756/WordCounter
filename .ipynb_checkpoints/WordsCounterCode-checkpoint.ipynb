{
 "cells": [
  {
   "cell_type": "code",
   "execution_count": null,
   "id": "1b7c5829-57d9-4b2f-a139-94e1a55af5bc",
   "metadata": {},
   "outputs": [
    {
     "name": "stdin",
     "output_type": "stream",
     "text": [
      "Enter a text:  Deutschland (Vollform des Staatennamens seit 1949: Bundesrepublik Deutschland) ist ein Bundesstaat in Mitteleuropa.[6] Es hat 16 Bundesländer und ist als freiheitlich-demokratischer und sozialer Rechtsstaat verfasst. Die 1949 gegründete Bundesrepublik Deutschland stellt die jüngste Ausprägung des 1871 erstmals begründeten deutschen Nationalstaats dar. Im Rahmen der Wiedervereinigung Deutschlands wurde Berlin 1990 Bundeshauptstadt und 1991 zum Parlaments- und Regierungssitz bestimmt.  Das Land grenzt an neun Nachbarstaaten und liegt in der gemäßigten Klimazone zwischen Nord- und Ostsee im Norden sowie Bodensee und Alpen im Süden.  Deutschland hat circa 84,7 Millionen Einwohner (Stand 31. Dezember 2023)[7] und zählt bei einer Fläche von 357.588 Quadratkilometern mit durchschnittlich 236 Einwohnern pro Quadratkilometer zu den dicht besiedelten Flächenstaaten. Die Geburtenrate liegt bei 1,46 Kindern pro Frau (2022).[8] Die bevölkerungsreichste deutsche Stadt ist Berlin; weitere Metropolen mit mehr als einer Million Einwohnern sind Hamburg, München und Köln; der größte Ballungsraum ist das Ruhrgebiet. Es gibt vier weitere deutsche Städte mit mehr als 600.000 Einwohnern (2022): Frankfurt am Main ist ein europäisches Finanzzentrum von globaler Bedeutung, Stuttgart ist eines der bedeutendsten Zentren der Automobilindustrie weltweit, Düsseldorf ist für seinen Kunst- und Modehandel und als „Schreibtisch des Ruhrgebiets“ bekannt und Leipzig für seine Messe sowie seinen Frachtflughafen. Darüber hinaus zählt das Land sieben weitere Städte mit mehr als 500.000 Einwohnern (2022): Dortmund, Essen, Bremen, Dresden, Hannover, Nürnberg und Duisburg. Nahezu 15 Millionen Einwohner leben in den 15 deutschen Städten mit mehr als einer halben Million Einwohnern, was etwa 18 % aller Einwohner entspricht.[9][10]  Funde des Homo heidelbergensis sowie zahlreicher prähistorischer Kunstwerke aus der späteren Altsteinzeit belegen, dass seit 600.000 Jahren Menschen auf dem Gebiet des heutigen Deutschland leben, einige Steinwerkzeuge wurden sogar auf über 1,3 Millionen Jahre datiert.[11] Während der Jungsteinzeit, um 5600 v. Chr., wanderten die ersten Bauern aus dem Nahen Osten ein. Die Römer bezeichneten die Siedlungsgebiete der germanischen Stämme in der Antike als Germania magna. Durch die Eroberungen Karls des Großen wurden weite Teile des heutigen Deutschland um 800 erstmals in einem Herrschaftsgebiet zusammengefasst. Infolge der Teilungen des Fränkischen Reichs unter Karls Enkeln entstand im 9. Jahrhundert das Ostfrankenreich, das ab dem 10. Jahrhundert auch als Regnum Teutonicum bezeichnet wurde und aus dem das bis 1806 bestehende Heilige Römische Reich Deutscher Nation hervorging. An dessen Stelle wiederum trat 1815 der Deutsche Bund, der sich aus lose miteinander verbundenen souveränen Staaten zusammensetzte. Nach der gescheiterten Märzrevolution von 1848 kam es erst 1871 zur Gründung eines deutschen Nationalstaats, des Deutschen Reichs.  Die rasche Entwicklung vom Agrar- zum Industriestaat vollzog sich während der Gründerzeit in der zweiten Hälfte des 19. Jahrhunderts. Nach dem Ersten Weltkrieg wurde 1918 die Monarchie abgeschafft und die demokratische Weimarer Republik konstituiert. Ab 1933 führte die nationalsozialistische Diktatur zu politischer und rassistischer Verfolgung und gipfelte in der Ermordung von sechs Millionen Juden und Angehörigen anderer Minderheiten wie Sinti und Roma. Der vom NS-Staat 1939 begonnene Zweite Weltkrieg endete 1945 mit der Niederlage der Achsenmächte. Das von den Siegermächten besetzte Land wurde 1949 geteilt, nachdem bereits 1945 seine Ostgebiete teils unter polnische, teils sowjetische Verwaltungshoheit gestellt worden waren. Der Gründung der Bundesrepublik als demokratischer westdeutscher Teilstaat mit Westbindung am 23. Mai 1949 folgte die Gründung der sozialistischen DDR am 7. Oktober 1949 als ostdeutscher Teilstaat unter sowjetischer Hegemonie. Die innerdeutsche Grenze war nach dem Berliner Mauerbau (ab 13. August 1961) abgeriegelt. Nach der friedlichen Revolution in der DDR 1989 erfolgte die Lösung der deutschen Frage durch die Wiedervereinigung beider Landesteile am 3. Oktober 1990, womit auch die Außengrenzen Deutschlands als endgültig anerkannt wurden. Durch den Beitritt der fünf ostdeutschen Länder sowie die Wiedervereinigung von Ost- und West-Berlin zur heutigen Bundeshauptstadt zählt die Bundesrepublik Deutschland seit 1990 sechzehn Bundesländer.  Die Bundesrepublik Deutschland ist Gründungsmitglied der Europäischen Union und ihrer Vorgänger (Römische Verträge 1957) sowie deren bevölkerungsreichstes Land. Mit 19 anderen EU-Mitgliedstaaten bildet sie eine Währungsunion, die Eurozone. Deutschland ist Mitglied der UN, der OECD, der OSZE, der NATO, der G7, der G20 und des Europarates. Bereits 1951 eröffnete der Hohe Flüchtlingskommissar (UNHCR) ein Verbindungsbüro in der damaligen Bundeshauptstadt Bonn, seit 1991 unterhalten die Vereinten Nationen dort ihren deutschen Sitz („UNO-Stadt“).[12] Die Bundesrepublik Deutschland gilt als einer der politisch einflussreichsten Staaten Europas und ist ein gesuchtes Partnerland auf globaler Ebene.[13]\n"
     ]
    },
    {
     "name": "stdout",
     "output_type": "stream",
     "text": [
      "662\n",
      "\n",
      "These are the 10 most common words in the text that you provided: \n",
      "\n",
      "The word 'der' appears 36 times. Its frequency is 0.05%\n",
      "The word 'und' appears 23 times. Its frequency is 0.03%\n",
      "The word 'die' appears 23 times. Its frequency is 0.03%\n",
      "The word 'als' appears 12 times. Its frequency is 0.02%\n",
      "The word 'des' appears 11 times. Its frequency is 0.02%\n",
      "The word 'deutschland' appears 10 times. Its frequency is 0.02%\n",
      "The word 'ist' appears 10 times. Its frequency is 0.02%\n",
      "The word 'in' appears 9 times. Its frequency is 0.01%\n",
      "The word 'mit' appears 8 times. Its frequency is 0.01%\n",
      "The word 'das' appears 7 times. Its frequency is 0.01%\n"
     ]
    },
    {
     "name": "stdin",
     "output_type": "stream",
     "text": [
      "\n",
      "Enter a specific word to check how many times it appears in the text you provided:  ebene\n"
     ]
    },
    {
     "name": "stdout",
     "output_type": "stream",
     "text": [
      "\n",
      "The word in which you're interested: 'ebene', apears 1 times.\n"
     ]
    },
    {
     "name": "stdin",
     "output_type": "stream",
     "text": [
      "\n",
      "Enter a specific word to check how many times it appears in the text you provided:  union\n"
     ]
    },
    {
     "name": "stdout",
     "output_type": "stream",
     "text": [
      "\n",
      "The word in which you're interested: 'union', apears 1 times.\n"
     ]
    },
    {
     "name": "stdin",
     "output_type": "stream",
     "text": [
      "\n",
      "Enter a specific word to check how many times it appears in the text you provided:  bundesrepublik\n"
     ]
    },
    {
     "name": "stdout",
     "output_type": "stream",
     "text": [
      "\n",
      "The word in which you're interested: 'bundesrepublik', apears 6 times.\n"
     ]
    }
   ],
   "source": [
    "from collections import Counter\n",
    "import re\n",
    "\n",
    "# This function takes a text string and returns a dictionary containing the frequency of each word.\n",
    "def word_frequency(text):\n",
    "\n",
    "  # Lowercase the text for case-insensitive counting\n",
    "  text = text.lower()\n",
    " \n",
    "  # Remove punctuation\n",
    "  punctuations = [\".\", \",\", \";\", \":\", \"'\", '\"', \"!\", \"?\",\"[\",\"]\",\"(\",\")\",'-']\n",
    "  for punc in punctuations:\n",
    "    text = text.replace(punc, \"\")\n",
    "\n",
    "  # Split the text into words\n",
    "  words = text.split()\n",
    "  \n",
    "  # Use collections.Counter to count word frequencies\n",
    "  word_counts = Counter(words)\n",
    "  return word_counts\n",
    "\n",
    "# Usage example given a raw text: \n",
    "rawtext=input(\"Enter a text: \")\n",
    "# Remove numerals from the raw text\n",
    "newtext = re.sub(r'[0-9]', '', rawtext)\n",
    "# save text length\n",
    "textlength=len(newtext.split())\n",
    "print(textlength)\n",
    "word_freq = word_frequency(newtext)\n",
    "topfive = word_freq.most_common(10)\n",
    "# Print the 5 most frequent words\n",
    "print(\"\\nThese are the 10 most common words in the text that you provided: \\n\")\n",
    "for x in topfive: \n",
    "  print(\"The word '\" + str(x[0]) + \"' appears \" + str(x[1]) + \" times. Its frequency is \"+ str(round(x[1]/textlength, 2))+\"%\")\n",
    "# Let the user insert a word of interest\n",
    "while True: \n",
    "  user_word = input(\"\\nEnter a specific word to check how many times it appears in the text you provided: \").lower()\n",
    "# Access frequency of a specific word\n",
    "  if user_word in word_freq:\n",
    "    print(\"\\nThe word in which you're interested: '\" +str(user_word) + \"', apears \" + str(word_freq[user_word]) + \" times.\")\n",
    "  else:\n",
    "    print(\"\\nThe word in which you're interested: '\" + user_word + \"', doesn't apear.\")"
   ]
  },
  {
   "cell_type": "code",
   "execution_count": null,
   "id": "22a086db-fb29-4725-9464-c609cd3e64cb",
   "metadata": {},
   "outputs": [],
   "source": []
  }
 ],
 "metadata": {
  "kernelspec": {
   "display_name": "Python 3 (ipykernel)",
   "language": "python",
   "name": "python3"
  },
  "language_info": {
   "codemirror_mode": {
    "name": "ipython",
    "version": 3
   },
   "file_extension": ".py",
   "mimetype": "text/x-python",
   "name": "python",
   "nbconvert_exporter": "python",
   "pygments_lexer": "ipython3",
   "version": "3.11.7"
  }
 },
 "nbformat": 4,
 "nbformat_minor": 5
}
