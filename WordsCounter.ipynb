{
 "cells": [
  {
   "cell_type": "code",
   "execution_count": null,
   "id": "1fa41ad5-c763-46a3-a6aa-648212df3d2e",
   "metadata": {},
   "outputs": [
    {
     "name": "stdin",
     "output_type": "stream",
     "text": [
      "Enter some text:  Linguistics is the scientific study of language, and its focus is the systematic investigation of the properties of particular languages as well as the characteristics of language in general. It encompasses not only the study of sound, grammar and meaning, but also the history of language families, how languages are acquired by children and adults, and how language use is processed in the mind and how it is connected to race and gender. With close connections to the humanities, social sciences and the natural sciences, linguistics complements a diverse range of other disciplines such as anthropology, philosophy, psychology, sociology, biology, computer science, health sciences, education and literature. The subfield of Applied Linguistics emphasizes the use of linguistic concepts in the classroom to help students improve their ability to communicate in their native language or a second language.\n"
     ]
    },
    {
     "name": "stdout",
     "output_type": "stream",
     "text": [
      "\n",
      "These are the 10 most common words in the text that you provided: \n",
      "\n",
      "The word 'the' appears 12 times. Its frequency is 0.09%\n",
      "The word 'of' appears 9 times. Its frequency is 0.07%\n",
      "The word 'and' appears 8 times. Its frequency is 0.06%\n",
      "The word 'language' appears 6 times. Its frequency is 0.04%\n",
      "The word 'is' appears 4 times. Its frequency is 0.03%\n",
      "The word 'in' appears 4 times. Its frequency is 0.03%\n",
      "The word 'to' appears 4 times. Its frequency is 0.03%\n",
      "The word 'linguistics' appears 3 times. Its frequency is 0.02%\n",
      "The word 'as' appears 3 times. Its frequency is 0.02%\n",
      "The word 'how' appears 3 times. Its frequency is 0.02%\n"
     ]
    }
   ],
   "source": [
    "from collections import Counter\n",
    "import re\n",
    "import csv\n",
    "\n",
    "# This function takes a text string and returns a dictionary containing the frequency of each word.\n",
    "def word_frequency(text):\n",
    "\n",
    "  # Lowercase the text for case-insensitive counting\n",
    "  text = text.lower()\n",
    " \n",
    "  # Remove punctuation\n",
    "  punctuations = [\".\", \",\", \";\", \":\", \"'\", '\"', \"!\", \"?\",\"[\",\"]\",\"(\",\")\",'-']\n",
    "  for punc in punctuations:\n",
    "    text = text.replace(punc, \"\")\n",
    "\n",
    "  # Split the text into words\n",
    "  words = text.split()\n",
    "  \n",
    "  # Use collections.Counter to count word frequencies\n",
    "  word_counts = Counter(words)\n",
    "  return word_counts\n",
    "while True: \n",
    "# Usage example given a raw text: \n",
    "    rawtext=input(\"Enter some text: \")\n",
    "# Remove numerals from the raw text\n",
    "    newtext = re.sub(r'[0-9]', '', rawtext)\n",
    "# save text length\n",
    "    textlength=len(newtext.split())\n",
    "    word_freq = word_frequency(newtext)\n",
    "    topfive = word_freq.most_common(10)\n",
    "# Print the 5 most frequent words\n",
    "    print(\"\\nThese are the 10 most common words in the text that you provided: \\n\")\n",
    "    for x in topfive: \n",
    "      print(\"The word '\" + str(x[0]) + \"' appears \" + str(x[1]) + \" times. Its frequency is \"+ str(round(x[1]/textlength, 2))+\"%\")\n",
    "\n",
    "# Store the whole information in a CSV file. \n",
    "    with open('Words.csv', 'w', newline='', encoding='utf-8') as csvfile:\n",
    "        fieldnames = ['Word', 'Frequency','Ratio']\n",
    "        writer = csv.DictWriter(csvfile, fieldnames=fieldnames)\n",
    "        writer.writeheader()\n",
    "    \n",
    "    # Sort word_freq by frequency in descending order (highest first)\n",
    "        sorted_words = sorted(word_freq.items(), key=lambda item: item[1], reverse=True)\n",
    "    # Write each word and its details to the CSV\n",
    "        for word, frequency in sorted_words:\n",
    "            ratio = str(round(frequency / textlength, 2)) + '%'\n",
    "            writer.writerow({'Word': word, 'Frequency': frequency, 'Ratio': ratio}) \n",
    "\n",
    "# Let the user insert a word of interest\n",
    "    user_word = input(\"\\nEnter a specific word to check how many times it appears in the text you provided: \").lower()\n",
    "# Access frequency of a specific word\n",
    "    if user_word in word_freq:\n",
    "        print(\"\\nThe word in which you're interested: '\" +str(user_word) + \"', apears \" + str(word_freq[user_word]) + \" times.\")\n",
    "    else:\n",
    "        print(\"\\nThe word in which you're interested: '\" + user_word + \"', doesn't apear.\")"
   ]
  },
  {
   "cell_type": "code",
   "execution_count": null,
   "id": "d5973ca3-23b0-4177-9cd5-d5f40e8ee816",
   "metadata": {},
   "outputs": [],
   "source": []
  }
 ],
 "metadata": {
  "kernelspec": {
   "display_name": "Python 3 (ipykernel)",
   "language": "python",
   "name": "python3"
  },
  "language_info": {
   "codemirror_mode": {
    "name": "ipython",
    "version": 3
   },
   "file_extension": ".py",
   "mimetype": "text/x-python",
   "name": "python",
   "nbconvert_exporter": "python",
   "pygments_lexer": "ipython3",
   "version": "3.11.7"
  }
 },
 "nbformat": 4,
 "nbformat_minor": 5
}
