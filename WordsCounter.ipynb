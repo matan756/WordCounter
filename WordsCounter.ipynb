{
 "cells": [
  {
   "cell_type": "code",
   "execution_count": null,
   "id": "1fa41ad5-c763-46a3-a6aa-648212df3d2e",
   "metadata": {},
   "outputs": [
    {
     "name": "stdin",
     "output_type": "stream",
     "text": [
      "Enter some text:  Two grenadiers were marching back to France They had been held captive in Russia, And when they reached German lands They hung their heads in shame.  For here they learnt the sorry tale That France had been conquered in war, Her valiant army beaten and shattered, And the Emperor, the Emperor captured.  The grenadiers then wept together, As they heard of these sad tidings. The first said: ‘Ah, the agony; How my old wound is burning!’  The second said: ‘This is the end; If only we could die together. But I’ve a wife and child at home, And they would perish without me.’  ‘To hell with wife, to hell with child, My aims are for far higher things; Let them beg, if they’ve nothing to eat— My Emperor, my Emperor captured!  ‘Grant me, brother, one request, If I am now to die. Take my corpse with you to France; Bury me in French soil.\n"
     ]
    },
    {
     "name": "stdout",
     "output_type": "stream",
     "text": [
      "154\n",
      "\n",
      "These are the 10 most common words in the text that you provided: \n",
      "\n",
      "The word 'the' appears 8 times. Its frequency is 0.05%\n",
      "The word 'they' appears 6 times. Its frequency is 0.04%\n",
      "The word 'to' appears 5 times. Its frequency is 0.03%\n",
      "The word 'and' appears 5 times. Its frequency is 0.03%\n",
      "The word 'my' appears 5 times. Its frequency is 0.03%\n",
      "The word 'in' appears 4 times. Its frequency is 0.03%\n",
      "The word 'emperor' appears 4 times. Its frequency is 0.03%\n",
      "The word 'france' appears 3 times. Its frequency is 0.02%\n",
      "The word 'if' appears 3 times. Its frequency is 0.02%\n",
      "The word 'with' appears 3 times. Its frequency is 0.02%\n"
     ]
    },
    {
     "name": "stdin",
     "output_type": "stream",
     "text": [
      "\n",
      "Enter a specific word to check how many times it appears in the text you provided:  h\n"
     ]
    },
    {
     "name": "stdout",
     "output_type": "stream",
     "text": [
      "\n",
      "The word in which you're interested: 'h', doesn't apear.\n"
     ]
    }
   ],
   "source": [
    "from collections import Counter\n",
    "import re\n",
    "import csv\n",
    "\n",
    "# This function takes a text string and returns a dictionary containing the frequency of each word.\n",
    "def word_frequency(text):\n",
    "\n",
    "  # Lowercase the text for case-insensitive counting\n",
    "  text = text.lower()\n",
    " \n",
    "  # Remove punctuation\n",
    "  punctuations = [\".\", \",\", \";\", \":\", \"'\", '\"', \"!\", \"?\",\"[\",\"]\",\"(\",\")\",'-']\n",
    "  for punc in punctuations:\n",
    "    text = text.replace(punc, \"\")\n",
    "\n",
    "  # Split the text into words\n",
    "  words = text.split()\n",
    "  \n",
    "  # Use collections.Counter to count word frequencies\n",
    "  word_counts = Counter(words)\n",
    "  return word_counts\n",
    "\n",
    "# Usage example given a raw text: \n",
    "rawtext=input(\"Enter some text: \")\n",
    "# Remove numerals from the raw text\n",
    "newtext = re.sub(r'[0-9]', '', rawtext)\n",
    "# save text length\n",
    "textlength=len(newtext.split())\n",
    "print(textlength)\n",
    "word_freq = word_frequency(newtext)\n",
    "topfive = word_freq.most_common(10)\n",
    "# Print the 5 most frequent words\n",
    "print(\"\\nThese are the 10 most common words in the text that you provided: \\n\")\n",
    "for x in topfive: \n",
    "  print(\"The word '\" + str(x[0]) + \"' appears \" + str(x[1]) + \" times. Its frequency is \"+ str(round(x[1]/textlength, 2))+\"%\")\n",
    "\n",
    "# Store the whole information in a CSV file. \n",
    "with open('Words.csv', 'w', newline='') as csvfile:\n",
    "    fieldnames = ['Word', 'Frequency','Ratio']\n",
    "    writer = csv.DictWriter(csvfile, fieldnames=fieldnames)\n",
    "    writer.writeheader()\n",
    "    for x in word_freq.items():\n",
    "        writer.writerow({'Word': x[0], 'Frequency': x[1], 'Ratio': str(round(x[1]/textlength, 2))+'%'})\n",
    "\n",
    "# Let the user insert a word of interest\n",
    "while True: \n",
    "  user_word = input(\"\\nEnter a specific word to check how many times it appears in the text you provided: \").lower()\n",
    "# Access frequency of a specific word\n",
    "  if user_word in word_freq:\n",
    "    print(\"\\nThe word in which you're interested: '\" +str(user_word) + \"', apears \" + str(word_freq[user_word]) + \" times.\")\n",
    "  else:\n",
    "    print(\"\\nThe word in which you're interested: '\" + user_word + \"', doesn't apear.\")"
   ]
  },
  {
   "cell_type": "code",
   "execution_count": null,
   "id": "48e6da90-78f9-4987-b6c5-569473933cdf",
   "metadata": {},
   "outputs": [],
   "source": []
  }
 ],
 "metadata": {
  "kernelspec": {
   "display_name": "Python 3 (ipykernel)",
   "language": "python",
   "name": "python3"
  },
  "language_info": {
   "codemirror_mode": {
    "name": "ipython",
    "version": 3
   },
   "file_extension": ".py",
   "mimetype": "text/x-python",
   "name": "python",
   "nbconvert_exporter": "python",
   "pygments_lexer": "ipython3",
   "version": "3.11.7"
  }
 },
 "nbformat": 4,
 "nbformat_minor": 5
}
